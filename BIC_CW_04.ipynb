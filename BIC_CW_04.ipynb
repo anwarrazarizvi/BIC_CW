{
 "cells": [
  {
   "cell_type": "markdown",
   "metadata": {},
   "source": [
    "**Import Resources**"
   ]
  },
  {
   "cell_type": "code",
   "execution_count": 1,
   "metadata": {},
   "outputs": [],
   "source": [
    "# importing resources\n",
    "import numpy as np\n",
    "import matplotlib.pyplot as plt\n",
    "%matplotlib inline\n",
    "\n",
    "\n",
    "#import ipywidgets as widgets\n",
    "#from ipywidgets import interact, interact_manual"
   ]
  },
  {
   "cell_type": "markdown",
   "metadata": {},
   "source": [
    "**Select function from User input**"
   ]
  },
  {
   "cell_type": "code",
   "execution_count": 2,
   "metadata": {},
   "outputs": [
    {
     "name": "stdout",
     "output_type": "stream",
     "text": [
      "Choose the function name \n",
      "(Options: Linear, Cubic, Sine, TanH, XOR, Complex) = XOR\n",
      "XOR\n"
     ]
    }
   ],
   "source": [
    "# Setting function from User input\n",
    "func = input('Choose the function name \\n(Options: Linear, Cubic, Sine, TanH, XOR, Complex) = ')\n",
    "\n",
    "#check\n",
    "print(func)"
   ]
  },
  {
   "cell_type": "code",
   "execution_count": null,
   "metadata": {},
   "outputs": [],
   "source": [
    "## try and except statment\n",
    "#handling errors & exceptions"
   ]
  },
  {
   "cell_type": "markdown",
   "metadata": {},
   "source": [
    "**Set Hyperparameters from User input**"
   ]
  },
  {
   "cell_type": "code",
   "execution_count": null,
   "metadata": {
    "scrolled": false
   },
   "outputs": [],
   "source": [
    "# Setting Hyperparameters from User input\n",
    "\n",
    "# set number of hidden layers\n",
    "hidden_layers = int(input('Enter number of hidden layers = '))\n",
    "\n",
    "# set number of nodes/neurons in the hidden layers\n",
    "if(hidden_layers > 0):\n",
    "    hidden_layer_nodes = []\n",
    "    for layer in range(hidden_layers):\n",
    "        hidden_layer_nodes.append(int(input('Enter number of nodes in hidden layer {}= '.format(layer+1))))\n",
    "    \n",
    "# set activation function\n",
    "activation = input('Enter the activation function \\n(Options: Null, Sigmoid, Hyperbolic Tangent, Cosine, Gaussian) = ')\n",
    "    \n",
    "#set learning rate\n",
    "learning_rate = float(input('Enter value of learning rate = '))\n",
    "\n",
    "#check\n",
    "print(hidden_layer_nodes)\n",
    "print(activation)\n",
    "print(learning_rate)\n"
   ]
  },
  {
   "cell_type": "markdown",
   "metadata": {},
   "source": [
    "**Set number of nodes in input and output layers based on the selected function**"
   ]
  },
  {
   "cell_type": "code",
   "execution_count": null,
   "metadata": {},
   "outputs": [],
   "source": [
    "# Setting number nodes/neurons in the Input layer\n",
    "input_nodes = 1 #input nodes=1 for Linear, Cubic, Sine, Tanh since these functions are based on single input variable\n",
    "\n",
    "if func in ('XOR','Complex'):\n",
    "    input_nodes = 2 # Since XOR & Complex functions are based on two input variables\n",
    "   \n",
    "    \n",
    "# Setting number of nodes/neurons in the Output layer\n",
    "output_nodes =1 # Since only single output value is expected from the fuction\n",
    "\n",
    "#check\n",
    "print(input_nodes, output_nodes)"
   ]
  },
  {
   "cell_type": "code",
   "execution_count": null,
   "metadata": {},
   "outputs": [],
   "source": [
    "activation_funcs = {\n",
    "    'Null': lambda x: 0,\n",
    "    'Sigmoid': lambda x: 1/(1 + np.exp(-x)),\n",
    "    'Hyperbolic Tangent': lambda x: np.tanh(x),\n",
    "    'Cosine': lambda x: np.cos(x),\n",
    "    'Gaussian': lambda x: np.exp(-x**2/2),\n",
    "        }"
   ]
  },
  {
   "cell_type": "code",
   "execution_count": null,
   "metadata": {},
   "outputs": [],
   "source": [
    "#check\n",
    "activate = activation_funcs[activation]\n",
    "print (activate(.5))\n",
    "\n",
    "print(0)\n",
    "print(1/(1 + np.exp(-.5)))\n",
    "print(np.tanh(.5))\n",
    "print(np.cos(.5))\n",
    "print(np.exp(-.5**2/2))"
   ]
  },
  {
   "cell_type": "code",
   "execution_count": null,
   "metadata": {},
   "outputs": [],
   "source": [
    "\n",
    "for i in range(len(hidden_layer_nodes)):\n",
    "    print(i)\n",
    "    print(hidden_layer_nodes[i])\n",
    "    \n",
    "len(hidden_layer_nodes)\n",
    "print(i)"
   ]
  },
  {
   "cell_type": "markdown",
   "metadata": {},
   "source": [
    "**Create Helper Function for matrix multiplication**"
   ]
  },
  {
   "cell_type": "code",
   "execution_count": null,
   "metadata": {},
   "outputs": [],
   "source": [
    "def matrixMul(mat1, mat2):\n",
    "    return \n",
    "\n",
    "\n",
    "\n"
   ]
  },
  {
   "cell_type": "code",
   "execution_count": 14,
   "metadata": {},
   "outputs": [
    {
     "data": {
      "text/plain": [
       "[[12, 18], [], [], []]"
      ]
     },
     "execution_count": 14,
     "metadata": {},
     "output_type": "execute_result"
    }
   ],
   "source": [
    "def matmult(a,b):\n",
    "    zip_b = zip(*b)\n",
    "    # uncomment next line if python 3 : \n",
    "    # zip_b = list(zip_b)\n",
    "    return [[sum(ele_a*ele_b for ele_a, ele_b in zip(row_a, col_b)) \n",
    "             for col_b in zip_b] for row_a in a]\n",
    "\n",
    "x = [[1,2,3],[4,5,6],[7,8,9],[10,11,12]]\n",
    "y = [[1,2],[1,2],[3,4]]\n",
    "\n",
    "matmult(x,y)"
   ]
  },
  {
   "cell_type": "markdown",
   "metadata": {},
   "source": [
    "**Create Neural Network Class**"
   ]
  },
  {
   "cell_type": "code",
   "execution_count": null,
   "metadata": {},
   "outputs": [],
   "source": [
    "class neuralNetwork:    \n",
    "    def __init__(self, inputNodes, hiddenLayerNodes, outputNodes, learningRate, activationFunction):\n",
    "        self.inodes = inputNodes\n",
    "        self.hidnodes = hiddenLayerNodes\n",
    "        self.onodes = outputNodes\n",
    "        self.lr = learningRate\n",
    "        self.actfunc = activationFunction\n",
    "        \n",
    "        self.wih = np.random.rand(self.hidnodes[0], self.inodes)\n",
    "        \n",
    "        if (len(hiddenLayerNodes)>1):\n",
    "            for i in range(len(hiddenLayerNodes)-1):\n",
    "                self.whh = np.random.rand(self.hidnodes[i+1], self.hidnodes[i])\n",
    "            \n",
    "        self.who = np.random.rand(self.onodes, self.hidnodes[-1])\n",
    "    \n",
    "        #to be coverted to separate function from scratch\n",
    "        #self.activation_function = funcs[activation]   \n",
    "        pass\n",
    "\n",
    "\n",
    "    def run(self, inputs_list): # change to run\n",
    "        \n",
    "        inputs = np.array(inputs_list,ndmin = 1).T\n",
    "        \n",
    "        hidden_inputs = np.dot(self.wih,inputs)\n",
    "        hidden_outputs = self.activation_function(hidden_inputs)\n",
    "        \n",
    "        final_inputs = np.dot(self.who, hidden_outputs)\n",
    "        final_outputs = self.activation_function(final_inputs)\n",
    "        \n",
    "        return final_outputs"
   ]
  },
  {
   "cell_type": "code",
   "execution_count": null,
   "metadata": {},
   "outputs": [],
   "source": [
    "#create instance of neural network\n",
    "nn = neuralNetwork(input_nodes, hidden_layer_nodes, output_nodes, learning_rate, activation)\n"
   ]
  },
  {
   "cell_type": "code",
   "execution_count": null,
   "metadata": {},
   "outputs": [],
   "source": [
    "print(nn.wih)\n",
    "print(nn.whh)\n",
    "print(nn.who)"
   ]
  },
  {
   "cell_type": "markdown",
   "metadata": {},
   "source": [
    "**Reading data from the .txt file**"
   ]
  },
  {
   "cell_type": "code",
   "execution_count": 7,
   "metadata": {},
   "outputs": [
    {
     "name": "stdout",
     "output_type": "stream",
     "text": [
      "[0.0, 0.0, 0.0, 0.0, 1.0, 1.0, 1.0, 0.0, 1.0, 1.0, 1.0, 0.0, 0.0, 0.0, 0.0, 0.0, 1.0, 1.0, 1.0, 0.0, 1.0, 1.0, 1.0, 0.0, 0.0, 0.0, 0.0, 0.0, 1.0, 1.0, 1.0, 0.0, 1.0, 1.0, 1.0, 0.0, 0.0, 0.0, 0.0, 0.0, 1.0, 1.0, 1.0, 0.0, 1.0, 1.0, 1.0, 0.0, 0.0, 0.0, 0.0, 0.0, 1.0, 1.0, 1.0, 0.0, 1.0, 1.0, 1.0, 0.0, 0.0, 0.0, 0.0, 0.0, 1.0, 1.0, 1.0, 0.0, 1.0, 1.0, 1.0, 0.0, 0.0, 0.0, 0.0, 0.0, 1.0, 1.0, 1.0, 0.0, 1.0, 1.0, 1.0, 0.0, 0.0, 0.0, 0.0, 0.0, 1.0, 1.0, 1.0, 0.0, 1.0, 1.0, 1.0, 0.0, 0.0, 0.0, 0.0, 0.0, 1.0, 1.0, 1.0, 0.0, 1.0, 1.0, 1.0, 0.0, 0.0, 0.0, 0.0, 0.0, 1.0, 1.0, 1.0, 0.0, 1.0, 1.0, 1.0, 0.0, 0.0, 0.0, 0.0, 0.0, 1.0, 1.0, 1.0, 0.0, 1.0, 1.0, 1.0, 0.0, 0.0, 0.0, 0.0, 0.0, 1.0, 1.0, 1.0, 0.0, 1.0, 1.0, 1.0, 0.0, 0.0, 0.0, 0.0, 0.0, 1.0, 1.0, 1.0, 0.0, 1.0, 1.0, 1.0, 0.0, 0.0, 0.0, 0.0, 0.0, 1.0, 1.0, 1.0, 0.0, 1.0, 1.0, 1.0, 0.0, 0.0, 0.0, 0.0, 0.0, 1.0, 1.0, 1.0, 0.0, 1.0, 1.0, 1.0, 0.0, 0.0, 0.0, 0.0, 0.0, 1.0, 1.0, 1.0, 0.0, 1.0, 1.0, 1.0, 0.0, 0.0, 0.0, 0.0, 0.0, 1.0, 1.0, 1.0, 0.0, 1.0, 1.0, 1.0, 0.0, 0.0, 0.0, 0.0, 0.0, 1.0, 1.0, 1.0, 0.0, 1.0, 1.0, 1.0, 0.0, 0.0, 0.0, 0.0, 0.0, 1.0, 1.0, 1.0, 0.0, 1.0, 1.0, 1.0, 0.0, 0.0, 0.0, 0.0, 0.0, 1.0, 1.0, 1.0, 0.0, 1.0, 1.0, 1.0, 0.0, 0.0, 0.0, 0.0, 0.0, 1.0, 1.0, 1.0, 0.0, 1.0, 1.0, 1.0, 0.0, 0.0, 0.0, 0.0, 0.0, 1.0, 1.0, 1.0, 0.0, 1.0, 1.0, 1.0, 0.0, 0.0, 0.0, 0.0, 0.0, 1.0, 1.0, 1.0, 0.0, 1.0, 1.0, 1.0, 0.0, 0.0, 0.0, 0.0, 0.0, 1.0, 1.0, 1.0, 0.0, 1.0, 1.0, 1.0, 0.0, 0.0, 0.0, 0.0, 0.0, 1.0, 1.0, 1.0, 0.0, 1.0, 1.0, 1.0, 0.0]\n"
     ]
    }
   ],
   "source": [
    "# load the training data from .txt file into a list\n",
    "txt_address = {'Linear':'cw_dataset/1in_linear.txt',\n",
    "               'Cubic':'cw_dataset/1in_cubic.txt',\n",
    "               'Sine':'cw_dataset/1in_sine.txt',\n",
    "               'TanH':'cw_dataset/1in_tanh.txt',\n",
    "               'XOR':'cw_dataset/2in_xor.txt',\n",
    "               'Complex':'cw_dataset/2in_complex.txt'}\n",
    "\n",
    "train_data_file = open(txt_address[func],'r')\n",
    "line_data = train_data_file.readlines()\n",
    "train_data_file.close()\n",
    "\n",
    "train_list = []\n",
    "for line in line_data:\n",
    "    line = line.strip().split()\n",
    "    for d in line:\n",
    "        train_list.append(float(d))\n",
    "        \n",
    "#check     \n",
    "print(train_list)\n",
    "\n",
    "#train_array = np.array(train_list, dtype=np.float32).reshape((2,200))\n",
    "#train_array = np.array(train_list).reshape((-1,2))\n",
    "#X,Y = train_array[:,0],train_array[:,-1]\n",
    "\n",
    "if func in ('XOR','Complex'):\n",
    "    X1,X2,Y = train_list[::3],train_list[1::3],train_list[2::3]\n",
    "else:\n",
    "    X,Y = train_list[::2],train_list[1::2]"
   ]
  },
  {
   "cell_type": "code",
   "execution_count": 9,
   "metadata": {},
   "outputs": [
    {
     "name": "stdout",
     "output_type": "stream",
     "text": [
      "[0.0, 0.0, 1.0, 1.0, 0.0, 0.0, 1.0, 1.0, 0.0, 0.0, 1.0, 1.0, 0.0, 0.0, 1.0, 1.0, 0.0, 0.0, 1.0, 1.0, 0.0, 0.0, 1.0, 1.0, 0.0, 0.0, 1.0, 1.0, 0.0, 0.0, 1.0, 1.0, 0.0, 0.0, 1.0, 1.0, 0.0, 0.0, 1.0, 1.0, 0.0, 0.0, 1.0, 1.0, 0.0, 0.0, 1.0, 1.0, 0.0, 0.0, 1.0, 1.0, 0.0, 0.0, 1.0, 1.0, 0.0, 0.0, 1.0, 1.0, 0.0, 0.0, 1.0, 1.0, 0.0, 0.0, 1.0, 1.0, 0.0, 0.0, 1.0, 1.0, 0.0, 0.0, 1.0, 1.0, 0.0, 0.0, 1.0, 1.0, 0.0, 0.0, 1.0, 1.0, 0.0, 0.0, 1.0, 1.0, 0.0, 0.0, 1.0, 1.0, 0.0, 0.0, 1.0, 1.0, 0.0, 0.0, 1.0, 1.0]\n",
      "100\n",
      "[0.0, 1.0, 0.0, 1.0, 0.0, 1.0, 0.0, 1.0, 0.0, 1.0, 0.0, 1.0, 0.0, 1.0, 0.0, 1.0, 0.0, 1.0, 0.0, 1.0, 0.0, 1.0, 0.0, 1.0, 0.0, 1.0, 0.0, 1.0, 0.0, 1.0, 0.0, 1.0, 0.0, 1.0, 0.0, 1.0, 0.0, 1.0, 0.0, 1.0, 0.0, 1.0, 0.0, 1.0, 0.0, 1.0, 0.0, 1.0, 0.0, 1.0, 0.0, 1.0, 0.0, 1.0, 0.0, 1.0, 0.0, 1.0, 0.0, 1.0, 0.0, 1.0, 0.0, 1.0, 0.0, 1.0, 0.0, 1.0, 0.0, 1.0, 0.0, 1.0, 0.0, 1.0, 0.0, 1.0, 0.0, 1.0, 0.0, 1.0, 0.0, 1.0, 0.0, 1.0, 0.0, 1.0, 0.0, 1.0, 0.0, 1.0, 0.0, 1.0, 0.0, 1.0, 0.0, 1.0, 0.0, 1.0, 0.0, 1.0]\n",
      "100\n"
     ]
    }
   ],
   "source": [
    "print(X1)\n",
    "print(len(X1))\n",
    "print(X2)\n",
    "print(len(X2))"
   ]
  },
  {
   "cell_type": "code",
   "execution_count": 10,
   "metadata": {},
   "outputs": [
    {
     "name": "stdout",
     "output_type": "stream",
     "text": [
      "[0.0, 1.0, 1.0, 0.0, 0.0, 1.0, 1.0, 0.0, 0.0, 1.0, 1.0, 0.0, 0.0, 1.0, 1.0, 0.0, 0.0, 1.0, 1.0, 0.0, 0.0, 1.0, 1.0, 0.0, 0.0, 1.0, 1.0, 0.0, 0.0, 1.0, 1.0, 0.0, 0.0, 1.0, 1.0, 0.0, 0.0, 1.0, 1.0, 0.0, 0.0, 1.0, 1.0, 0.0, 0.0, 1.0, 1.0, 0.0, 0.0, 1.0, 1.0, 0.0, 0.0, 1.0, 1.0, 0.0, 0.0, 1.0, 1.0, 0.0, 0.0, 1.0, 1.0, 0.0, 0.0, 1.0, 1.0, 0.0, 0.0, 1.0, 1.0, 0.0, 0.0, 1.0, 1.0, 0.0, 0.0, 1.0, 1.0, 0.0, 0.0, 1.0, 1.0, 0.0, 0.0, 1.0, 1.0, 0.0, 0.0, 1.0, 1.0, 0.0, 0.0, 1.0, 1.0, 0.0, 0.0, 1.0, 1.0, 0.0]\n"
     ]
    },
    {
     "data": {
      "text/plain": [
       "100"
      ]
     },
     "execution_count": 10,
     "metadata": {},
     "output_type": "execute_result"
    }
   ],
   "source": [
    "print(Y)\n",
    "len(Y)"
   ]
  },
  {
   "cell_type": "code",
   "execution_count": null,
   "metadata": {},
   "outputs": [],
   "source": [
    "nn.run((np.asfarray(all_values[1:])/255.0*.99)+0.01)"
   ]
  },
  {
   "cell_type": "code",
   "execution_count": null,
   "metadata": {},
   "outputs": [],
   "source": []
  }
 ],
 "metadata": {
  "kernelspec": {
   "display_name": "Python 3",
   "language": "python",
   "name": "python3"
  },
  "language_info": {
   "codemirror_mode": {
    "name": "ipython",
    "version": 3
   },
   "file_extension": ".py",
   "mimetype": "text/x-python",
   "name": "python",
   "nbconvert_exporter": "python",
   "pygments_lexer": "ipython3",
   "version": "3.7.4"
  }
 },
 "nbformat": 4,
 "nbformat_minor": 2
}
